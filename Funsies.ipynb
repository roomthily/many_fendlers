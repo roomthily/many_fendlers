{
 "cells": [
  {
   "cell_type": "code",
   "execution_count": 2,
   "metadata": {
    "collapsed": true
   },
   "outputs": [],
   "source": [
    "import pandas as pd"
   ]
  },
  {
   "cell_type": "code",
   "execution_count": 6,
   "metadata": {
    "collapsed": false
   },
   "outputs": [
    {
     "data": {
      "text/html": [
       "<div>\n",
       "<table border=\"1\" class=\"dataframe\">\n",
       "  <thead>\n",
       "    <tr style=\"text-align: right;\">\n",
       "      <th></th>\n",
       "      <th>Terms</th>\n",
       "    </tr>\n",
       "  </thead>\n",
       "  <tbody>\n",
       "    <tr>\n",
       "      <th>0</th>\n",
       "      <td>'ala wai nui</td>\n",
       "    </tr>\n",
       "    <tr>\n",
       "      <th>1</th>\n",
       "      <td>makole</td>\n",
       "    </tr>\n",
       "    <tr>\n",
       "      <th>2</th>\n",
       "      <td>naupaka</td>\n",
       "    </tr>\n",
       "    <tr>\n",
       "      <th>3</th>\n",
       "      <td>ha</td>\n",
       "    </tr>\n",
       "    <tr>\n",
       "      <th>4</th>\n",
       "      <td>haole</td>\n",
       "    </tr>\n",
       "  </tbody>\n",
       "</table>\n",
       "</div>"
      ],
      "text/plain": [
       "          Terms\n",
       "0  'ala wai nui\n",
       "1        makole\n",
       "2       naupaka\n",
       "3            ha\n",
       "4         haole"
      ]
     },
     "execution_count": 6,
     "metadata": {},
     "output_type": "execute_result"
    }
   ],
   "source": [
    "corpus = pd.read_table('data/check_tokens.txt', header=None, names=['Terms'])\n",
    "corpus[:5]"
   ]
  },
  {
   "cell_type": "code",
   "execution_count": 8,
   "metadata": {
    "collapsed": false
   },
   "outputs": [
    {
     "data": {
      "text/html": [
       "<div>\n",
       "<table border=\"1\" class=\"dataframe\">\n",
       "  <thead>\n",
       "    <tr style=\"text-align: right;\">\n",
       "      <th></th>\n",
       "      <th>TSN</th>\n",
       "      <th>Taxon1</th>\n",
       "      <th>Taxon2</th>\n",
       "      <th>Vernacular</th>\n",
       "    </tr>\n",
       "  </thead>\n",
       "  <tbody>\n",
       "    <tr>\n",
       "      <th>0</th>\n",
       "      <td>35157</td>\n",
       "      <td>Bobea</td>\n",
       "      <td>sandwicensis</td>\n",
       "      <td>'ahakea</td>\n",
       "    </tr>\n",
       "    <tr>\n",
       "      <th>1</th>\n",
       "      <td>30629</td>\n",
       "      <td>Nothocestrum</td>\n",
       "      <td>latifolium</td>\n",
       "      <td>'aiea</td>\n",
       "    </tr>\n",
       "    <tr>\n",
       "      <th>2</th>\n",
       "      <td>537800</td>\n",
       "      <td>Nothocestrum</td>\n",
       "      <td>longifolium</td>\n",
       "      <td>'aiea</td>\n",
       "    </tr>\n",
       "    <tr>\n",
       "      <th>3</th>\n",
       "      <td>504864</td>\n",
       "      <td>Rubus</td>\n",
       "      <td>macraei</td>\n",
       "      <td>'akala</td>\n",
       "    </tr>\n",
       "    <tr>\n",
       "      <th>4</th>\n",
       "      <td>18277</td>\n",
       "      <td>Peperomia</td>\n",
       "      <td>subpetiolata</td>\n",
       "      <td>'ala 'ala wai nui</td>\n",
       "    </tr>\n",
       "  </tbody>\n",
       "</table>\n",
       "</div>"
      ],
      "text/plain": [
       "      TSN                               Taxon1        Taxon2  \\\n",
       "0   35157  Bobea                                sandwicensis   \n",
       "1   30629  Nothocestrum                           latifolium   \n",
       "2  537800  Nothocestrum                          longifolium   \n",
       "3  504864  Rubus                                     macraei   \n",
       "4   18277  Peperomia                            subpetiolata   \n",
       "\n",
       "          Vernacular  \n",
       "0            'ahakea  \n",
       "1              'aiea  \n",
       "2              'aiea  \n",
       "3             'akala  \n",
       "4  'ala 'ala wai nui  "
      ]
     },
     "execution_count": 8,
     "metadata": {},
     "output_type": "execute_result"
    }
   ],
   "source": [
    "botany = pd.read_csv('data/vernaculars.csv', header=0, names=['TSN', 'Taxon1', 'Taxon2', 'Vernacular'])\n",
    "botany[:5]"
   ]
  },
  {
   "cell_type": "code",
   "execution_count": 14,
   "metadata": {
    "collapsed": false
   },
   "outputs": [],
   "source": []
  },
  {
   "cell_type": "code",
   "execution_count": 35,
   "metadata": {
    "collapsed": false
   },
   "outputs": [
    {
     "name": "stdout",
     "output_type": "stream",
     "text": [
      "Fendler's aster\n"
     ]
    }
   ],
   "source": [
    "to_check = \"Fendler's \" + 'aster' # corpus.sample(1).iloc[0]['Terms']\n",
    "\n",
    "print (to_check)\n",
    "\n",
    "# can be Fendler's or Fendler\n",
    "found_df = botany[botany['Vernacular'].str.contains(to_check, case=False)]"
   ]
  },
  {
   "cell_type": "code",
   "execution_count": 43,
   "metadata": {
    "collapsed": false
   },
   "outputs": [
    {
     "data": {
      "text/plain": [
       "(2, 4)"
      ]
     },
     "execution_count": 43,
     "metadata": {},
     "output_type": "execute_result"
    }
   ],
   "source": [
    "found_df.shape"
   ]
  },
  {
   "cell_type": "code",
   "execution_count": 45,
   "metadata": {
    "collapsed": false
   },
   "outputs": [],
   "source": [
    "if found_df.shape[0] > 0:\n",
    "    item = found_df[0:1]\n",
    "else:\n",
    "    item = None"
   ]
  },
  {
   "cell_type": "code",
   "execution_count": 57,
   "metadata": {
    "collapsed": false
   },
   "outputs": [
    {
     "name": "stdout",
     "output_type": "stream",
     "text": [
      "        TSN                               Taxon1    Taxon2       Vernacular\n",
      "6015  35569  Aster                                fendleri  Fendler's aster\n"
     ]
    }
   ],
   "source": [
    "print (item)"
   ]
  },
  {
   "cell_type": "code",
   "execution_count": 56,
   "metadata": {
    "collapsed": false
   },
   "outputs": [
    {
     "name": "stdout",
     "output_type": "stream",
     "text": [
      "Aster fendleri\n",
      "Fendler's aster\n"
     ]
    }
   ],
   "source": [
    "if item is not None:\n",
    "    # generate 140 chars\n",
    "    full_name = '{0} {1}'.format(item.iloc[0]['Taxon1'].strip(), item.iloc[0]['Taxon2'].strip())\n",
    "    vernacular = item.iloc[0]['Vernacular'].strip()\n",
    "    \n",
    "    print (full_name)\n",
    "    print (vernacular)"
   ]
  },
  {
   "cell_type": "code",
   "execution_count": 59,
   "metadata": {
    "collapsed": false
   },
   "outputs": [
    {
     "name": "stdout",
     "output_type": "stream",
     "text": [
      "111\n"
     ]
    }
   ],
   "source": [
    "'''\n",
    "{vernacular} -> [Taxon]\n",
    "\n",
    "'❀᪥🌼❁🌳𐇲'\n",
    "\n",
    "'''\n",
    "\n",
    "\n",
    "def generate_tweet(taxon='', vernacular=''):\n",
    "    if taxon and vernacular:\n",
    "        max_len - max(len(taxon), len(vernacular))\n",
    "        chars_left = 140 - len(taxon) - len(vernacular)\n",
    "        print (chars_left)\n",
    "\n",
    "        \n",
    "generate_tweet(full_name, vernacular)"
   ]
  },
  {
   "cell_type": "code",
   "execution_count": null,
   "metadata": {
    "collapsed": true
   },
   "outputs": [],
   "source": []
  }
 ],
 "metadata": {
  "kernelspec": {
   "display_name": "Python 3",
   "language": "python",
   "name": "python3"
  },
  "language_info": {
   "codemirror_mode": {
    "name": "ipython",
    "version": 3
   },
   "file_extension": ".py",
   "mimetype": "text/x-python",
   "name": "python",
   "nbconvert_exporter": "python",
   "pygments_lexer": "ipython3",
   "version": "3.5.1"
  }
 },
 "nbformat": 4,
 "nbformat_minor": 0
}
